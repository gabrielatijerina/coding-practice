{
 "cells": [
  {
   "cell_type": "markdown",
   "metadata": {},
   "source": [
    "## Python 101 Exercises \n",
    "### Exercises by Ryan Orsinger can be found here: https://www.kaggle.com/ryanorsinger/101-exercises"
   ]
  },
  {
   "cell_type": "code",
   "execution_count": 1,
   "metadata": {},
   "outputs": [
    {
     "ename": "NameError",
     "evalue": "name 'on_mars_right_now' is not defined",
     "output_type": "error",
     "traceback": [
      "\u001b[0;31m---------------------------------------------------------------------------\u001b[0m",
      "\u001b[0;31mNameError\u001b[0m                                 Traceback (most recent call last)",
      "\u001b[0;32m<ipython-input-1-50745ba7624d>\u001b[0m in \u001b[0;36m<module>\u001b[0;34m\u001b[0m\n\u001b[1;32m      2\u001b[0m \u001b[0;31m# On the line below, create a variable named on_mars_right_now and assign it the boolean value of False\u001b[0m\u001b[0;34m\u001b[0m\u001b[0;34m\u001b[0m\u001b[0;34m\u001b[0m\u001b[0m\n\u001b[1;32m      3\u001b[0m \u001b[0;34m\u001b[0m\u001b[0m\n\u001b[0;32m----> 4\u001b[0;31m \u001b[0;32massert\u001b[0m \u001b[0mon_mars_right_now\u001b[0m \u001b[0;34m==\u001b[0m \u001b[0;32mFalse\u001b[0m\u001b[0;34m,\u001b[0m \u001b[0;34m\"If you see a Name Error, be sure to create the variable and assign it a value.\"\u001b[0m\u001b[0;34m\u001b[0m\u001b[0;34m\u001b[0m\u001b[0m\n\u001b[0m\u001b[1;32m      5\u001b[0m \u001b[0mprint\u001b[0m\u001b[0;34m(\u001b[0m\u001b[0;34m\"Exercise 1 is correct.\"\u001b[0m\u001b[0;34m)\u001b[0m\u001b[0;34m\u001b[0m\u001b[0;34m\u001b[0m\u001b[0m\n",
      "\u001b[0;31mNameError\u001b[0m: name 'on_mars_right_now' is not defined"
     ]
    }
   ],
   "source": [
    "# Exercise 1\n",
    "# On the line below, create a variable named on_mars_right_now and assign it the boolean value of False\n",
    "\n",
    "assert on_mars_right_now == False, \"If you see a Name Error, be sure to create the variable and assign it a value.\"\n",
    "print(\"Exercise 1 is correct.\")"
   ]
  },
  {
   "cell_type": "code",
   "execution_count": null,
   "metadata": {},
   "outputs": [],
   "source": [
    "# Exercise 2\n",
    "# Create a variable named fruits and assign it a list of fruits containing the following fruit names as strings: \n",
    "# mango, banana, guava, kiwi, and strawberry.\n",
    "\n",
    "assert fruits == [\"mango\", \"banana\", \"guava\", \"kiwi\", \"strawberry\"], \"If you see an Assert Error, ensure the variable contains all the strings in the provided order\"\n",
    "print(\"Exercise 2 is correct.\")"
   ]
  },
  {
   "cell_type": "code",
   "execution_count": null,
   "metadata": {},
   "outputs": [],
   "source": [
    "# Exercise 3\n",
    "# Create a variable named vegetables and assign it a list of fruits containing the following vegetable names as strings: \n",
    "# eggplant, broccoli, carrot, cauliflower, and zucchini\n",
    "\n",
    "assert vegetables == [\"eggplant\", \"broccoli\", \"carrot\", \"cauliflower\", \"zucchini\"], \"Ensure the variable contains all the strings in the provided order\"\n",
    "print(\"Exercise 3 is correct.\")"
   ]
  },
  {
   "cell_type": "code",
   "execution_count": null,
   "metadata": {},
   "outputs": [],
   "source": [
    "# Exercise 4\n",
    "# Create a variable named numbers and assign it a list of numbers, 1, 2, 3, 4, 5, 6, 7, 8, 9, 10\n",
    "\n",
    "assert numbers == [1, 2, 3, 4, 5, 6, 7, 8, 9, 10], \"Ensure the variable contains the numbers 1-10 in order.\"\n",
    "print(\"Exercise 4 is correct.\")"
   ]
  },
  {
   "cell_type": "markdown",
   "metadata": {},
   "source": [
    "## List Operations "
   ]
  },
  {
   "cell_type": "code",
   "execution_count": null,
   "metadata": {},
   "outputs": [],
   "source": [
    "# Exercise 5\n",
    "# Given the following assigment of the list of fruits, add \"tomato\" to the end of the list. \n",
    "fruits = [\"mango\", \"banana\", \"guava\", \"kiwi\", \"strawberry\"]\n",
    "\n",
    "assert fruits == [\"mango\", \"banana\", \"guava\", \"kiwi\", \"strawberry\", \"tomato\"], \"Ensure the variable contains all the strings in the right order\"\n",
    "print(\"Exercise 5 is correct\")"
   ]
  },
  {
   "cell_type": "code",
   "execution_count": null,
   "metadata": {},
   "outputs": [],
   "source": [
    "# Exercise 6\n",
    "# Given the following assignment of the vegetables list, add \"tomato\" to the end of the list.\n",
    "vegetables = [\"eggplant\", \"broccoli\", \"carrot\", \"cauliflower\", \"zucchini\"]\n",
    "\n",
    "\n",
    "assert vegetables == [\"eggplant\", \"broccoli\", \"carrot\", \"cauliflower\", \"zucchini\", \"tomato\"], \"Ensure the variable contains all the strings in the provided order\"\n",
    "print(\"Exercise 6 is correct\")"
   ]
  },
  {
   "cell_type": "code",
   "execution_count": null,
   "metadata": {},
   "outputs": [],
   "source": [
    "# Exercise 7\n",
    "# Given the list of numbers defined below, reverse the list of numbers that you created above. \n",
    "numbers = [1, 2, 3, 4, 5, 6, 7, 8, 9, 10]\n",
    "\n",
    "\n",
    "assert numbers == [10, 9, 8, 7, 6, 5, 4, 3, 2, 1], \"Assert Error means that the answer is incorrect.\" \n",
    "print(\"Exercise 7 is correct.\")"
   ]
  },
  {
   "cell_type": "code",
   "execution_count": null,
   "metadata": {},
   "outputs": [],
   "source": [
    "# Exercise 8\n",
    "# Sort the vegetables in alphabetical order\n",
    "\n",
    "assert vegetables == ['broccoli', 'carrot', 'cauliflower', 'eggplant', 'tomato', 'zucchini']\n",
    "print(\"Exercise 8 is correct.\")"
   ]
  },
  {
   "cell_type": "code",
   "execution_count": null,
   "metadata": {},
   "outputs": [],
   "source": [
    "# Exercise 9\n",
    "# Write the code necessary to sort the fruits in reverse alphabetical order\n",
    "\n",
    "assert fruits == ['tomato', 'strawberry', 'mango', 'kiwi', 'guava', 'banana']\n",
    "print(\"Exercise 9 is correct.\")"
   ]
  },
  {
   "cell_type": "code",
   "execution_count": null,
   "metadata": {},
   "outputs": [],
   "source": [
    "# Exercise 10\n",
    "# Write the code necessary to produce a single list that holds all fruits then all vegetables in the order as they were sorted above.\n",
    "\n",
    "assert fruits_and_veggies == ['tomato', 'strawberry', 'mango', 'kiwi', 'guava', 'banana', 'broccoli', 'carrot', 'cauliflower', 'eggplant', 'tomato', 'zucchini']\n",
    "print(\"Exercise 10 is correct\")"
   ]
  },
  {
   "cell_type": "markdown",
   "metadata": {},
   "source": [
    "## Basic Functions "
   ]
  },
  {
   "cell_type": "code",
   "execution_count": null,
   "metadata": {},
   "outputs": [],
   "source": [
    "# Run this cell in order to generate some numbers to use in our functions after this.\n",
    "import random\n",
    "    \n",
    "positive_even_number = random.randrange(2, 101, 2)\n",
    "negative_even_number = random.randrange(-100, -1, 2)\n",
    "\n",
    "positive_odd_number = random.randrange(1, 100, 2)\n",
    "negative_odd_number = random.randrange(-101, 0, 2)\n",
    "print(\"We now have some random numbers available for future exercises.\")\n",
    "print(\"The random positive even number is\", positive_even_number)\n",
    "print(\"The random positive odd nubmer is\", positive_odd_number)\n",
    "print(\"The random negative even number\", negative_even_number)\n",
    "print(\"The random negative odd number\", negative_odd_number)"
   ]
  },
  {
   "cell_type": "code",
   "execution_count": null,
   "metadata": {},
   "outputs": [],
   "source": [
    "# Example function defintion:\n",
    "# Write a say_hello function that adds the string \"Hello, \" to the beginning and \"!\" to the end of any given input.\n",
    "def say_hello(name):\n",
    "    return \"Hello, \" + name + \"!\"\n",
    "\n",
    "assert say_hello(\"Jane\") == \"Hello, Jane!\", \"Double check the inputs and data types\"\n",
    "assert say_hello(\"Pat\") == \"Hello, Pat!\", \"Double check the inputs and data types\"\n",
    "assert say_hello(\"Astrud\") == \"Hello, Astrud!\", \"Double check the inputs and data types\"\n",
    "print(\"The example function definition ran appropriately\")"
   ]
  },
  {
   "cell_type": "code",
   "execution_count": null,
   "metadata": {},
   "outputs": [],
   "source": [
    "# Exercise 11\n",
    "# Write a function definition for a function named add_one that takes in a number and returns that number plus one.\n",
    "\n",
    "    \n",
    "assert add_one(2) == 3, \"Ensure that the function is defined, named properly, and returns the correct value\"\n",
    "assert add_one(0) == 1, \"Zero plus one is one.\"\n",
    "assert add_one(positive_even_number) == positive_even_number + 1, \"Ensure that the function is defined, named properly, and returns the correct value\"\n",
    "assert add_one(negative_odd_number) == negative_odd_number + 1, \"Ensure that the function is defined, named properly, and returns the correct value\"\n",
    "print(\"Exercise 11 is correct.\") "
   ]
  },
  {
   "cell_type": "code",
   "execution_count": null,
   "metadata": {},
   "outputs": [],
   "source": [
    "# Exercise 12\n",
    "# Write a function definition named is_positive that takes in a number and returns True or False if that number is positive.\n",
    "\n",
    "assert is_positive(positive_odd_number) == True, \"Ensure that the function is defined, named properly, and returns the correct value\"\n",
    "assert is_positive(positive_even_number) == True, \"Ensure that the function is defined, named properly, and returns the correct value\"\n",
    "assert is_positive(negative_odd_number) == False, \"Ensure that the function is defined, named properly, and returns the correct value\"\n",
    "assert is_positive(negative_even_number) == False, \"Ensure that the function is defined, named properly, and returns the correct value\"\n",
    "print(\"Exercise 12 is correct.\")"
   ]
  },
  {
   "cell_type": "code",
   "execution_count": null,
   "metadata": {},
   "outputs": [],
   "source": [
    "# Exercise 13\n",
    "# Write a function definition named is_negative that takes in a number and returns True or False if that number is negative.\n",
    "\n",
    "assert is_negative(positive_odd_number) == False, \"Ensure that the function is defined, named properly, and returns the correct value\"\n",
    "assert is_negative(positive_even_number) == False, \"Ensure that the function is defined, named properly, and returns the correct value\"\n",
    "assert is_negative(negative_odd_number) == True, \"Ensure that the function is defined, named properly, and returns the correct value\"\n",
    "assert is_negative(negative_even_number) == True, \"Ensure that the function is defined, named properly, and returns the correct value\"\n",
    "print(\"Exercise 13 is correct.\")"
   ]
  },
  {
   "cell_type": "code",
   "execution_count": null,
   "metadata": {},
   "outputs": [],
   "source": [
    "# Exercise 14\n",
    "# Write a function definition named is_odd that takes in a number and returns True or False if that number is odd.\n",
    "\n",
    "assert is_odd(positive_odd_number) == True, \"Ensure that the function is defined, named properly, and returns the correct value\"\n",
    "assert is_odd(positive_even_number) == False, \"Ensure that the function is defined, named properly, and returns the correct value\"\n",
    "assert is_odd(negative_odd_number) == True, \"Ensure that the function is defined, named properly, and returns the correct value\"\n",
    "assert is_odd(negative_even_number) == False, \"Ensure that the function is defined, named properly, and returns the correct value\"\n",
    "print(\"Exercise 14 is correct.\")"
   ]
  },
  {
   "cell_type": "code",
   "execution_count": null,
   "metadata": {},
   "outputs": [],
   "source": [
    "# Exercise 15\n",
    "# Write a function definition named is_even that takes in a number and returns True or False if that number is even.\n",
    "\n",
    "assert is_even(2) == True, \"Ensure that the function is defined, named properly, and returns the correct value\"\n",
    "assert is_even(positive_odd_number) == False, \"Ensure that the function is defined, named properly, and returns the correct value\"\n",
    "assert is_even(positive_even_number) == True, \"Ensure that the function is defined, named properly, and returns the correct value\"\n",
    "assert is_even(negative_odd_number) == False, \"Ensure that the function is defined, named properly, and returns the correct value\"\n",
    "assert is_even(negative_even_number) == True, \"Ensure that the function is defined, named properly, and returns the correct value\"\n",
    "print(\"Exercise 15 is correct.\")"
   ]
  },
  {
   "cell_type": "code",
   "execution_count": null,
   "metadata": {},
   "outputs": [],
   "source": [
    "# Exercise 16\n",
    "# Write a function definition named identity that takes in any argument and returns that argument's value. Don't overthink this one!\n",
    "\n",
    "assert identity(fruits) == fruits, \"Ensure that the function is defined, named properly, and returns the correct value\"\n",
    "assert identity(vegetables) == vegetables, \"Ensure that the function is defined, named properly, and returns the correct value\"\n",
    "assert identity(positive_odd_number) == positive_odd_number, \"Ensure that the function is defined, named properly, and returns the correct value\"\n",
    "assert identity(positive_even_number) == positive_even_number, \"Ensure that the function is defined, named properly, and returns the correct value\"\n",
    "assert identity(negative_odd_number) == negative_odd_number, \"Ensure that the function is defined, named properly, and returns the correct value\"\n",
    "assert identity(negative_even_number) == negative_even_number, \"Ensure that the function is defined, named properly, and returns the correct value\"\n",
    "print(\"Exercise 16 is correct.\")"
   ]
  },
  {
   "cell_type": "code",
   "execution_count": null,
   "metadata": {},
   "outputs": [],
   "source": [
    "# Exercise 17\n",
    "# Write a function definition named is_positive_odd that takes in a number and returns True or False if the value is both greater than zero and odd\n",
    "\n",
    "assert is_positive_odd(3) == True, \"Double check your syntax and logic\" \n",
    "assert is_positive_odd(positive_odd_number) == True, \"Double check your syntax and logic\"\n",
    "assert is_positive_odd(positive_even_number) == False, \"Double check your syntax and logic\"\n",
    "assert is_positive_odd(negative_odd_number) == False, \"Double check your syntax and logic\"\n",
    "assert is_positive_odd(negative_even_number) == False, \"Double check your syntax and logic\"\n",
    "print(\"Exercise 17 is correct.\")"
   ]
  },
  {
   "cell_type": "code",
   "execution_count": null,
   "metadata": {},
   "outputs": [],
   "source": [
    "# Exercise 18\n",
    "# Write a function definition named is_positive_even that takes in a number and returns True or False if the value is both greater than zero and even\n",
    "\n",
    "assert is_positive_even(4) == True, \"Double check your syntax and logic\" \n",
    "assert is_positive_even(positive_odd_number) == False, \"Double check your syntax and logic\"\n",
    "assert is_positive_even(positive_even_number) == True, \"Double check your syntax and logic\"\n",
    "assert is_positive_even(negative_odd_number) == False, \"Double check your syntax and logic\"\n",
    "assert is_positive_even(negative_even_number) == False, \"Double check your syntax and logic\"\n",
    "print(\"Exercise 18 is correct.\")"
   ]
  },
  {
   "cell_type": "code",
   "execution_count": null,
   "metadata": {},
   "outputs": [],
   "source": [
    "# Exercise 19\n",
    "# Write a function definition named is_negative_odd that takes in a number and returns True or False if the value is both less than zero and odd.\n",
    "\n",
    "assert is_negative_odd(-3) == True, \"Double check your syntax and logic\" \n",
    "assert is_negative_odd(positive_odd_number) == False, \"Double check your syntax and logic\"\n",
    "assert is_negative_odd(positive_even_number) == False, \"Double check your syntax and logic\"\n",
    "assert is_negative_odd(negative_odd_number) == True, \"Double check your syntax and logic\"\n",
    "assert is_negative_odd(negative_even_number) == False, \"Double check your syntax and logic\"\n",
    "print(\"Exercise 19 is correct.\")"
   ]
  },
  {
   "cell_type": "code",
   "execution_count": null,
   "metadata": {},
   "outputs": [],
   "source": [
    "# Exercise 20\n",
    "# Write a function definition named is_negative_even that takes in a number and returns True or False if the value is both less than zero and even.\n",
    "\n",
    "assert is_negative_even(-4) == True, \"Double check your syntax and logic\" \n",
    "assert is_negative_even(positive_odd_number) == False, \"Double check your syntax and logic\"\n",
    "assert is_negative_even(positive_even_number) == False, \"Double check your syntax and logic\"\n",
    "assert is_negative_even(negative_odd_number) == False, \"Double check your syntax and logic\"\n",
    "assert is_negative_even(negative_even_number) == True, \"Double check your syntax and logic\"\n",
    "print(\"Exercise 20 is correct.\")"
   ]
  },
  {
   "cell_type": "code",
   "execution_count": null,
   "metadata": {},
   "outputs": [],
   "source": [
    "# Exercise 21\n",
    "# Write a function definition named half that takes in a number and returns half the provided number.\n",
    "\n",
    "assert half(4) == 2\n",
    "assert half(5) == 2.5\n",
    "assert half(positive_odd_number) == positive_odd_number / 2\n",
    "assert half(positive_even_number) == positive_even_number / 2\n",
    "assert half(negative_odd_number) == negative_odd_number / 2\n",
    "assert half(negative_even_number) == negative_even_number / 2\n",
    "print(\"Exercise 21 is correct.\")"
   ]
  },
  {
   "cell_type": "code",
   "execution_count": null,
   "metadata": {},
   "outputs": [],
   "source": [
    "# Exercise 22\n",
    "# Write a function definition named double that takes in a number and returns double the provided number.\n",
    "\n",
    "assert double(4) == 8\n",
    "assert double(5) == 10\n",
    "assert double(positive_odd_number) == positive_odd_number * 2\n",
    "assert double(positive_even_number) == positive_even_number * 2\n",
    "assert double(negative_odd_number) == negative_odd_number * 2\n",
    "assert double(negative_even_number) == negative_even_number * 2\n",
    "print(\"Exercise 22 is correct.\")"
   ]
  },
  {
   "cell_type": "code",
   "execution_count": null,
   "metadata": {},
   "outputs": [],
   "source": [
    "# Exercise 23\n",
    "# Write a function definition named triple that takes in a number and returns triple the provided number.\n",
    "\n",
    "assert triple(4) == 12\n",
    "assert triple(5) == 15\n",
    "assert triple(positive_odd_number) == positive_odd_number * 3\n",
    "assert triple(positive_even_number) == positive_even_number * 3\n",
    "assert triple(negative_odd_number) == negative_odd_number * 3\n",
    "assert triple(negative_even_number) == negative_even_number * 3\n",
    "print(\"Exercise 23 is correct.\")"
   ]
  },
  {
   "cell_type": "code",
   "execution_count": null,
   "metadata": {},
   "outputs": [],
   "source": [
    "# Exercise 24\n",
    "# Write a function definition named reverse_sign that takes in a number and returns the provided number but with the sign reversed.\n",
    "\n",
    "assert reverse_sign(4) == -4\n",
    "assert reverse_sign(-5) == 5\n",
    "assert reverse_sign(positive_odd_number) == positive_odd_number * -1\n",
    "assert reverse_sign(positive_even_number) == positive_even_number * -1\n",
    "assert reverse_sign(negative_odd_number) == negative_odd_number * -1\n",
    "assert reverse_sign(negative_even_number) == negative_even_number * -1\n",
    "print(\"Exercise 24 is correct.\")"
   ]
  },
  {
   "cell_type": "code",
   "execution_count": null,
   "metadata": {},
   "outputs": [],
   "source": [
    "# Exercise 25\n",
    "# Write a function definition named absolute_value that takes in a number and returns the absolute value of the provided number\n",
    "\n",
    "assert absolute_value(4) == 4\n",
    "assert absolute_value(-5) == 5\n",
    "assert absolute_value(positive_odd_number) == positive_odd_number\n",
    "assert absolute_value(positive_even_number) == positive_even_number\n",
    "assert absolute_value(negative_odd_number) == negative_odd_number * -1\n",
    "assert absolute_value(negative_even_number) == negative_even_number * -1\n",
    "print(\"Exercise 25 is correct.\")"
   ]
  },
  {
   "cell_type": "code",
   "execution_count": null,
   "metadata": {},
   "outputs": [],
   "source": [
    "# Exercise 26\n",
    "# Write a function definition named is_multiple_of_three that takes in a number and returns True or False if the number is evenly divisible by 3.\n",
    "\n",
    "assert is_multiple_of_three(3) == True\n",
    "assert is_multiple_of_three(15) == True\n",
    "assert is_multiple_of_three(9) == True\n",
    "assert is_multiple_of_three(4) == False\n",
    "assert is_multiple_of_three(10) == False\n",
    "print(\"Exercise 26 is correct.\")"
   ]
  },
  {
   "cell_type": "code",
   "execution_count": null,
   "metadata": {},
   "outputs": [],
   "source": [
    "# Exercise 27\n",
    "# Write a function definition named is_multiple_of_five that takes in a number and returns True or False if the number is evenly divisible by 5.\n",
    "\n",
    "assert is_multiple_of_five(3) == False\n",
    "assert is_multiple_of_five(15) == True\n",
    "assert is_multiple_of_five(9) == False\n",
    "assert is_multiple_of_five(4) == False\n",
    "assert is_multiple_of_five(10) == True\n",
    "print(\"Exercise 27 is correct.\")"
   ]
  },
  {
   "cell_type": "code",
   "execution_count": null,
   "metadata": {},
   "outputs": [],
   "source": [
    "# Exercise 28\n",
    "# Write a function definition named is_multiple_of_both_three_and_five that takes in a number and returns True or False if the number is evenly divisible by both 3 and 5.\n",
    "\n",
    "assert is_multiple_of_both_three_and_five(15) == True\n",
    "assert is_multiple_of_both_three_and_five(45) == True\n",
    "assert is_multiple_of_both_three_and_five(3) == False\n",
    "assert is_multiple_of_both_three_and_five(9) == False\n",
    "assert is_multiple_of_both_three_and_five(4) == False\n",
    "print(\"Exercise 28 is correct.\")"
   ]
  },
  {
   "cell_type": "code",
   "execution_count": null,
   "metadata": {},
   "outputs": [],
   "source": [
    "# Exercise 29\n",
    "# Write a function definition named square that takes in a number and returns the number times itself.\n",
    "\n",
    "assert square(3) == 9\n",
    "assert square(2) == 4\n",
    "assert square(9) == 81\n",
    "assert square(positive_odd_number) == positive_odd_number * positive_odd_number\n",
    "print(\"Exercise 29 is correct.\")"
   ]
  },
  {
   "cell_type": "code",
   "execution_count": null,
   "metadata": {},
   "outputs": [],
   "source": [
    "# Exercise 30\n",
    "# Write a function definition named add that takes in two numbers and returns the sum.\n",
    "\n",
    "assert add(3, 2) == 5\n",
    "assert add(10, -2) == 8\n",
    "assert add(5, 7) == 12\n",
    "print(\"Exercise 30 is correct.\")"
   ]
  },
  {
   "cell_type": "code",
   "execution_count": null,
   "metadata": {},
   "outputs": [],
   "source": [
    "# Exercise 31\n",
    "# Write a function definition named cube that takes in a number and returns the number times itself, times itself.\n",
    "\n",
    "assert cube(3) == 27\n",
    "assert cube(2) == 8\n",
    "assert cube(5) == 125\n",
    "assert cube(positive_odd_number) == positive_odd_number * positive_odd_number * positive_odd_number\n",
    "print(\"Exercise 31 is correct.\")"
   ]
  },
  {
   "cell_type": "code",
   "execution_count": null,
   "metadata": {},
   "outputs": [],
   "source": [
    "# Exercise 32\n",
    "# Write a function definition named square_root that takes in a number and returns the square root of the provided number\n",
    "\n",
    "assert square_root(4) == 2.0\n",
    "assert square_root(64) == 8.0\n",
    "assert square_root(81) == 9.0\n",
    "print(\"Exercise 32 is correct.\")"
   ]
  },
  {
   "cell_type": "code",
   "execution_count": null,
   "metadata": {},
   "outputs": [],
   "source": [
    "# Exercise 33\n",
    "# Write a function definition named subtract that takes in two numbers and returns the first minus the second argument.\n",
    "\n",
    "assert subtract(8, 6) == 2\n",
    "assert subtract(27, 4) == 23\n",
    "assert subtract(12, 2) == 10\n",
    "print(\"Exercise 33 is correct.\")"
   ]
  },
  {
   "cell_type": "code",
   "execution_count": null,
   "metadata": {},
   "outputs": [],
   "source": [
    "# Exercise 34\n",
    "# Write a function definition named multiply that takes in two numbers and returns the first times the second argument.\n",
    "\n",
    "assert multiply(2, 1) == 2\n",
    "assert multiply(3, 5) == 15\n",
    "assert multiply(5, 2) == 10\n",
    "print(\"Exercise 34 is correct.\")"
   ]
  },
  {
   "cell_type": "code",
   "execution_count": null,
   "metadata": {},
   "outputs": [],
   "source": [
    "# Exercise 35\n",
    "# Write a function definition named divide that takes in two numbers and returns the first argument divided by the second argument.\n",
    "\n",
    "assert divide(27, 9) == 3\n",
    "assert divide(15, 3) == 5\n",
    "assert divide(5, 2) == 2.5\n",
    "assert divide(10, 2) == 5\n",
    "print(\"Exercise 35 is correct.\")"
   ]
  },
  {
   "cell_type": "code",
   "execution_count": null,
   "metadata": {},
   "outputs": [],
   "source": [
    "# Exercise 36\n",
    "# Write a function definition named quotient that takes in two numbers and returns only the quotient from dividing the first argument by the second argument.\n",
    "\n",
    "assert quotient(27, 9) == 3\n",
    "assert quotient(5, 2) == 2\n",
    "assert quotient(10, 3) == 3\n",
    "print(\"Exercise 36 is correct.\")"
   ]
  },
  {
   "cell_type": "code",
   "execution_count": null,
   "metadata": {},
   "outputs": [],
   "source": [
    "# Exercise 37\n",
    "# Write a function definition named remainder that takes in two numbers and returns the remainder of first argument divided by the second argument.\n",
    "\n",
    "assert remainder(3, 3) == 0\n",
    "assert remainder(5, 2) == 1\n",
    "assert remainder(7, 5) == 2\n",
    "print(\"Exercise 37 is correct.\")"
   ]
  },
  {
   "cell_type": "code",
   "execution_count": null,
   "metadata": {},
   "outputs": [],
   "source": [
    "# Exercise 38\n",
    "# Write a function definition named sum_of_squares that takes in two numbers, squares each number, then returns the sum of both squares.\n",
    "\n",
    "assert sum_of_squares(3, 2) == 13\n",
    "assert sum_of_squares(5, 2) == 29\n",
    "assert sum_of_squares(2, 4) == 20\n",
    "print(\"Exercise 38 is correct.\")"
   ]
  },
  {
   "cell_type": "code",
   "execution_count": null,
   "metadata": {},
   "outputs": [],
   "source": [
    "# Exercise 39\n",
    "# Write a function definition named times_two_plus_three that takes in a number, multiplies it by two, adds 3 and returns the result.\n",
    "\n",
    "assert times_two_plus_three(0) == 3\n",
    "assert times_two_plus_three(1) == 5\n",
    "assert times_two_plus_three(2) == 7\n",
    "assert times_two_plus_three(3) == 9\n",
    "assert times_two_plus_three(5) == 13\n",
    "print(\"Exercise 39 is correct.\")"
   ]
  },
  {
   "cell_type": "code",
   "execution_count": null,
   "metadata": {},
   "outputs": [],
   "source": [
    "# Exercise 40\n",
    "# Write a function definition named area_of_rectangle that takes in two numbers and returns the product.\n",
    "\n",
    "assert area_of_rectangle(1, 3) == 3\n",
    "assert area_of_rectangle(5, 2) == 10\n",
    "assert area_of_rectangle(2, 7) == 14\n",
    "assert area_of_rectangle(5.3, 10.3) == 54.59\n",
    "print(\"Exercise 40 is correct.\")"
   ]
  },
  {
   "cell_type": "code",
   "execution_count": null,
   "metadata": {},
   "outputs": [],
   "source": [
    "import math\n",
    "# Exercise 41\n",
    "# Write a function definition named area_of_circle that takes in a number representing a circle's radius and returns the area of the circl\n",
    "\n",
    "assert area_of_circle(3) == 28.274333882308138\n",
    "assert area_of_circle(5) == 78.53981633974483\n",
    "assert area_of_circle(7) == 153.93804002589985\n",
    "print(\"Exercise 41 is correct.\")"
   ]
  },
  {
   "cell_type": "code",
   "execution_count": null,
   "metadata": {},
   "outputs": [],
   "source": [
    "import math\n",
    "# Exercise 42\n",
    "# Write a function definition named circumference that takes in a number representing a circle's radius and returns the circumference.\n",
    "\n",
    "assert circumference(3) == 18.84955592153876\n",
    "assert circumference(5) == 31.41592653589793\n",
    "assert circumference(7) == 43.982297150257104\n",
    "print(\"Exercise 42 is correct.\")"
   ]
  },
  {
   "cell_type": "markdown",
   "metadata": {},
   "source": [
    "## Functions Working with Strings"
   ]
  },
  {
   "cell_type": "code",
   "execution_count": null,
   "metadata": {},
   "outputs": [],
   "source": []
  },
  {
   "cell_type": "code",
   "execution_count": null,
   "metadata": {},
   "outputs": [],
   "source": []
  },
  {
   "cell_type": "code",
   "execution_count": null,
   "metadata": {},
   "outputs": [],
   "source": []
  },
  {
   "cell_type": "code",
   "execution_count": null,
   "metadata": {},
   "outputs": [],
   "source": []
  },
  {
   "cell_type": "code",
   "execution_count": null,
   "metadata": {},
   "outputs": [],
   "source": []
  },
  {
   "cell_type": "code",
   "execution_count": null,
   "metadata": {},
   "outputs": [],
   "source": []
  },
  {
   "cell_type": "code",
   "execution_count": null,
   "metadata": {},
   "outputs": [],
   "source": []
  },
  {
   "cell_type": "code",
   "execution_count": null,
   "metadata": {},
   "outputs": [],
   "source": []
  },
  {
   "cell_type": "code",
   "execution_count": null,
   "metadata": {},
   "outputs": [],
   "source": []
  },
  {
   "cell_type": "code",
   "execution_count": null,
   "metadata": {},
   "outputs": [],
   "source": []
  },
  {
   "cell_type": "code",
   "execution_count": null,
   "metadata": {},
   "outputs": [],
   "source": []
  },
  {
   "cell_type": "code",
   "execution_count": null,
   "metadata": {},
   "outputs": [],
   "source": []
  }
 ],
 "metadata": {
  "kernelspec": {
   "display_name": "Python 3",
   "language": "python",
   "name": "python3"
  },
  "language_info": {
   "codemirror_mode": {
    "name": "ipython",
    "version": 3
   },
   "file_extension": ".py",
   "mimetype": "text/x-python",
   "name": "python",
   "nbconvert_exporter": "python",
   "pygments_lexer": "ipython3",
   "version": "3.8.5"
  }
 },
 "nbformat": 4,
 "nbformat_minor": 4
}
